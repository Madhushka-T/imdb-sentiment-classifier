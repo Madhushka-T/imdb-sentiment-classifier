{
 "cells": [
  {
   "cell_type": "markdown",
   "id": "38a591a1",
   "metadata": {},
   "source": [
    "# Load and Explore the Dataset"
   ]
  },
  {
   "cell_type": "code",
   "execution_count": 57,
   "id": "3ec8a1c6",
   "metadata": {},
   "outputs": [
    {
     "name": "stdout",
     "output_type": "stream",
     "text": [
      "                                              review sentiment\n",
      "0  One of the other reviewers has mentioned that ...  positive\n",
      "1  A wonderful little production. <br /><br />The...  positive\n",
      "2  I thought this was a wonderful way to spend ti...  positive\n",
      "3  Basically there's a family where a little boy ...  negative\n",
      "4  Petter Mattei's \"Love in the Time of Money\" is...  positive\n",
      "\n",
      "Label distribution:\n",
      " sentiment\n",
      "positive    25000\n",
      "negative    25000\n",
      "Name: count, dtype: int64\n"
     ]
    }
   ],
   "source": [
    "# Add synthetic short reviews\n",
    "short_reviews = [\n",
    "    (\"the movie was superb\", \"positive\"),\n",
    "    (\"it was excellent\", \"positive\"),\n",
    "    (\"a brilliant performance\", \"positive\"),\n",
    "    (\"a waste of time\", \"negative\"),\n",
    "    (\"the movie was terrible\", \"negative\"),\n",
    "    (\"absolutely bad\", \"negative\"),\n",
    "    (\"the movie was bad\", \"negative\"),\n",
    "]\n",
    "\n",
    "import pandas as pd\n",
    "df_extra = pd.DataFrame(short_reviews, columns=['review', 'sentiment'])\n",
    "\n",
    "# Append to original dataset\n",
    "df = pd.concat([df, df_extra], ignore_index=True)\n",
    "\n",
    "import pandas as pd\n",
    "df=pd.read_csv(\"IMDB Dataset.csv\")\n",
    "#print the first 5 rows\n",
    "print(df.head())\n",
    "#check the class distribution\n",
    "print(\"\\nLabel distribution:\\n\",df['sentiment'].value_counts())"
   ]
  },
  {
   "cell_type": "markdown",
   "id": "2edc0e13",
   "metadata": {},
   "source": [
    "# Preprocessing the Text Data"
   ]
  },
  {
   "cell_type": "code",
   "execution_count": 58,
   "id": "83d99246",
   "metadata": {},
   "outputs": [
    {
     "name": "stderr",
     "output_type": "stream",
     "text": [
      "[nltk_data] Downloading package stopwords to\n",
      "[nltk_data]     C:\\Users\\saima\\AppData\\Roaming\\nltk_data...\n",
      "[nltk_data]   Package stopwords is already up-to-date!\n"
     ]
    },
    {
     "name": "stdout",
     "output_type": "stream",
     "text": [
      "                                              review sentiment\n",
      "0  one reviewers mentioned watching 1 oz episode ...  positive\n",
      "1  wonderful little production filming technique ...  positive\n"
     ]
    }
   ],
   "source": [
    "import re\n",
    "import string\n",
    "import nltk\n",
    "from nltk.corpus import stopwords\n",
    "# Download stopwords if not already\n",
    "nltk.download('stopwords')\n",
    "stop_words=set(stopwords.words('english'))\n",
    "\n",
    "def preprocess_text(text):\n",
    "    # Lowercase\n",
    "    text=text.lower()\n",
    "    # Remove HTML tags\n",
    "    text = re.sub(r'<.*?>', '', text)\n",
    "    # Remove punctuation\n",
    "    text = text.translate(str.maketrans('', '', string.punctuation))\n",
    "    # Remove stopwords\n",
    "    text = ' '.join(word for word in text.split() if word not in stop_words)\n",
    "    return text\n",
    "# Apply preprocessing to the review column\n",
    "df['review'] = df['review'].apply(preprocess_text)\n",
    "\n",
    "# Show cleaned sample\n",
    "print(df.head(2))\n",
    "\n",
    "    "
   ]
  },
  {
   "cell_type": "markdown",
   "id": "79646814",
   "metadata": {},
   "source": [
    "# Convert Text to Numbers (Vectorization)"
   ]
  },
  {
   "cell_type": "code",
   "execution_count": 59,
   "id": "1d5eeb84",
   "metadata": {},
   "outputs": [
    {
     "name": "stdout",
     "output_type": "stream",
     "text": [
      "Shape of X (features): (50000, 5000)\n",
      "Sample of y (labels): [1 1 1 0 1]\n"
     ]
    }
   ],
   "source": [
    "from sklearn.feature_extraction.text import TfidfVectorizer\n",
    "\n",
    "from sklearn.feature_extraction.text import CountVectorizer\n",
    "vectorizer = CountVectorizer(max_features=5000, ngram_range=(1,2), stop_words='english')\n",
    "\n",
    "\n",
    "\n",
    "# Fit and transform the text data\n",
    "X = vectorizer.fit_transform(df['review']).toarray()\n",
    "\n",
    "\n",
    "# Labels (convert 'positive' to 1, 'negative' to 0)\n",
    "y = df['sentiment'].apply(lambda x: 1 if x == 'positive' else 0)\n",
    "\n",
    "print(\"Shape of X (features):\", X.shape)\n",
    "print(\"Sample of y (labels):\", y[:5].values)\n"
   ]
  },
  {
   "cell_type": "markdown",
   "id": "f9072242",
   "metadata": {},
   "source": [
    "# Split the Dataset\n",
    "##### Training set (to train the model)\n",
    "##### Testing set (to evaluate how well it performs)"
   ]
  },
  {
   "cell_type": "code",
   "execution_count": 60,
   "id": "3b5cb527",
   "metadata": {},
   "outputs": [
    {
     "name": "stdout",
     "output_type": "stream",
     "text": [
      "Training samples: 40000\n",
      "Testing samples: 10000\n"
     ]
    }
   ],
   "source": [
    "from sklearn.model_selection import train_test_split\n",
    "\n",
    "# Split into 80% train and 20% test\n",
    "X_train, X_test, y_train, y_test = train_test_split(\n",
    "    X, y, test_size=0.2, random_state=42\n",
    ")\n",
    "\n",
    "print(\"Training samples:\", X_train.shape[0])\n",
    "print(\"Testing samples:\", X_test.shape[0])\n"
   ]
  },
  {
   "cell_type": "markdown",
   "id": "6d05cd6e",
   "metadata": {},
   "source": [
    "# Train & Compare Models\n",
    "## We'll train:\n",
    "\n",
    "1> Logistic Regression\n",
    "\n",
    "2> Random Forest\n",
    "\n",
    "3> XGBoost"
   ]
  },
  {
   "cell_type": "code",
   "execution_count": 61,
   "id": "9ae58db3",
   "metadata": {},
   "outputs": [
    {
     "name": "stderr",
     "output_type": "stream",
     "text": [
      "c:\\Users\\saima\\AppData\\Local\\Programs\\Python\\Python312\\Lib\\site-packages\\sklearn\\linear_model\\_logistic.py:469: ConvergenceWarning: lbfgs failed to converge (status=1):\n",
      "STOP: TOTAL NO. of ITERATIONS REACHED LIMIT.\n",
      "\n",
      "Increase the number of iterations (max_iter) or scale the data as shown in:\n",
      "    https://scikit-learn.org/stable/modules/preprocessing.html\n",
      "Please also refer to the documentation for alternative solver options:\n",
      "    https://scikit-learn.org/stable/modules/linear_model.html#logistic-regression\n",
      "  n_iter_i = _check_optimize_result(\n"
     ]
    },
    {
     "name": "stdout",
     "output_type": "stream",
     "text": [
      "Logistic Regression Accuracy: 87.1 %\n"
     ]
    }
   ],
   "source": [
    "from sklearn.linear_model import LogisticRegression\n",
    "from sklearn.metrics import accuracy_score\n",
    "\n",
    "# Train Logistic Regression\n",
    "lr_model = LogisticRegression(max_iter=100)\n",
    "lr_model.fit(X_train, y_train)\n",
    "\n",
    "# Predict and evaluate\n",
    "lr_preds = lr_model.predict(X_test)\n",
    "lr_acc = accuracy_score(y_test, lr_preds)\n",
    "\n",
    "print(\"Logistic Regression Accuracy:\", round(lr_acc * 100, 2), \"%\")\n"
   ]
  },
  {
   "cell_type": "code",
   "execution_count": 62,
   "id": "eed86d31",
   "metadata": {},
   "outputs": [
    {
     "name": "stdout",
     "output_type": "stream",
     "text": [
      "Random Forest Accuracy: 84.94 %\n"
     ]
    }
   ],
   "source": [
    "from sklearn.ensemble import RandomForestClassifier\n",
    "\n",
    "# Train Random Forest\n",
    "rf_model = RandomForestClassifier(n_estimators=100, random_state=42)\n",
    "rf_model.fit(X_train, y_train)\n",
    "\n",
    "# Predict and evaluate\n",
    "rf_preds = rf_model.predict(X_test)\n",
    "rf_acc = accuracy_score(y_test, rf_preds)\n",
    "\n",
    "print(\"Random Forest Accuracy:\", round(rf_acc * 100, 2), \"%\")\n"
   ]
  },
  {
   "cell_type": "code",
   "execution_count": 63,
   "id": "45e830a5",
   "metadata": {},
   "outputs": [
    {
     "name": "stderr",
     "output_type": "stream",
     "text": [
      "c:\\Users\\saima\\AppData\\Local\\Programs\\Python\\Python312\\Lib\\site-packages\\xgboost\\training.py:183: UserWarning: [16:00:47] WARNING: C:\\actions-runner\\_work\\xgboost\\xgboost\\src\\learner.cc:738: \n",
      "Parameters: { \"use_label_encoder\" } are not used.\n",
      "\n",
      "  bst.update(dtrain, iteration=i, fobj=obj)\n"
     ]
    },
    {
     "name": "stdout",
     "output_type": "stream",
     "text": [
      "XGBoost Accuracy: 86.01 %\n"
     ]
    }
   ],
   "source": [
    "from xgboost import XGBClassifier\n",
    "from sklearn.metrics import accuracy_score\n",
    "\n",
    "# Train XGBoost\n",
    "xgb_model = XGBClassifier(use_label_encoder=False, eval_metric='logloss')\n",
    "xgb_model.fit(X_train, y_train)\n",
    "\n",
    "# Predict and evaluate\n",
    "xgb_preds = xgb_model.predict(X_test)\n",
    "xgb_acc = accuracy_score(y_test, xgb_preds)\n",
    "\n",
    "print(\"XGBoost Accuracy:\", round(xgb_acc * 100, 2), \"%\")\n"
   ]
  },
  {
   "cell_type": "markdown",
   "id": "ad30fb53",
   "metadata": {},
   "source": [
    "# Evaluate with Confusion Matrix & Classification Report"
   ]
  },
  {
   "cell_type": "code",
   "execution_count": 64,
   "id": "15cef1d2",
   "metadata": {},
   "outputs": [
    {
     "name": "stdout",
     "output_type": "stream",
     "text": [
      "Classification Report:\n",
      "\n",
      "              precision    recall  f1-score   support\n",
      "\n",
      "    Negative       0.87      0.84      0.86      4961\n",
      "    Positive       0.85      0.88      0.86      5039\n",
      "\n",
      "    accuracy                           0.86     10000\n",
      "   macro avg       0.86      0.86      0.86     10000\n",
      "weighted avg       0.86      0.86      0.86     10000\n",
      "\n"
     ]
    },
    {
     "data": {
      "image/png": "[encoded data removed]",
      "text/plain": [
       "<Figure size 500x400 with 2 Axes>"
      ]
     },
     "metadata": {},
     "output_type": "display_data"
    }
   ],
   "source": [
    "from sklearn.metrics import classification_report, confusion_matrix\n",
    "import seaborn as sns\n",
    "import matplotlib.pyplot as plt\n",
    "\n",
    "# Classification report\n",
    "print(\"Classification Report:\\n\")\n",
    "print(classification_report(y_test, xgb_preds, target_names=[\"Negative\", \"Positive\"]))\n",
    "\n",
    "# Confusion matrix\n",
    "cm = confusion_matrix(y_test, xgb_preds)\n",
    "\n",
    "# Plot confusion matrix\n",
    "plt.figure(figsize=(5,4))\n",
    "sns.heatmap(cm, annot=True, fmt='d', cmap='Blues', xticklabels=[\"Negative\", \"Positive\"], yticklabels=[\"Negative\", \"Positive\"])\n",
    "plt.title(\"Confusion Matrix - XGBoost\")\n",
    "plt.xlabel(\"Predicted\")\n",
    "plt.ylabel(\"Actual\")\n",
    "plt.show()\n"
   ]
  },
  {
   "cell_type": "code",
   "execution_count": 65,
   "id": "3e82745d",
   "metadata": {},
   "outputs": [
    {
     "data": {
      "image/png": "[encoded data removed]",
      "text/plain": [
       "<Figure size 800x500 with 1 Axes>"
      ]
     },
     "metadata": {},
     "output_type": "display_data"
    }
   ],
   "source": [
    "import matplotlib.pyplot as plt\n",
    "\n",
    "# Model names and their accuracies\n",
    "models = ['Logistic Regression', 'Random Forest', 'XGBoost']\n",
    "accuracies = [88.76, 84.88, 85.73]\n",
    "\n",
    "# Plot\n",
    "plt.figure(figsize=(8,5))\n",
    "plt.bar(models, accuracies, color=['skyblue', 'lightgreen', 'orange'])\n",
    "plt.ylabel('Accuracy (%)')\n",
    "plt.title('Model Comparison - IMDb Sentiment Analysis')\n",
    "plt.ylim(80, 90)\n",
    "plt.grid(axis='y')\n",
    "plt.show()\n"
   ]
  },
  {
   "cell_type": "code",
   "execution_count": 66,
   "id": "4f0db3fb",
   "metadata": {},
   "outputs": [
    {
     "data": {
      "text/plain": [
       "['vectorizer.pkl']"
      ]
     },
     "execution_count": 66,
     "metadata": {},
     "output_type": "execute_result"
    }
   ],
   "source": [
    "import joblib\n",
    "\n",
    "# Save the trained model and vectorizer\n",
    "joblib.dump(xgb_model, 'xgb_imdb_model.pkl')\n",
    "joblib.dump(vectorizer, 'vectorizer.pkl')\n",
    "\n"
   ]
  }
 ],
 "metadata": {
  "kernelspec": {
   "display_name": "Python 3",
   "language": "python",
   "name": "python3"
  },
  "language_info": {
   "codemirror_mode": {
    "name": "ipython",
    "version": 3
   },
   "file_extension": ".py",
   "mimetype": "text/x-python",
   "name": "python",
   "nbconvert_exporter": "python",
   "pygments_lexer": "ipython3",
   "version": "3.12.0"
  }
 },
 "nbformat": 4,
 "nbformat_minor": 5
}
